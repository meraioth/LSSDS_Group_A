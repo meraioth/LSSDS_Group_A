{
 "cells": [
  {
   "cell_type": "markdown",
   "metadata": {},
   "source": [
    "# FATS feature extractor using OGLE lightcurves\n",
    "\n",
    "Date: 24 Aug 2017\n",
    "\n",
    "Author: Tanveer Karim\n",
    "\n",
    "This code is written in Python 2.7. Note that there are some bugs in the FATS package and I had to manually go into the code to fix the problems, namely include the int() function in twenty instances where I would get errors.\n",
    "\n",
    "Here, the code will extract all the features from the lightcurves.\n",
    "\n",
    "Update 26 Aug 2017: Updated for running in .dat files in a specified folder and produces a pandas dataframe and produces \n",
    "lc_output.txt file containing all the information."
   ]
  },
  {
   "cell_type": "code",
   "execution_count": 1,
   "metadata": {},
   "outputs": [
    {
     "name": "stderr",
     "output_type": "stream",
     "text": [
      "/home/tanveer/anaconda2/lib/python2.7/site-packages/statsmodels/compat/pandas.py:56: FutureWarning: The pandas.core.datetools module is deprecated and will be removed in a future version. Please use the pandas.tseries module instead.\n",
      "  from pandas.core import datetools\n"
     ]
    }
   ],
   "source": [
    "import numpy as np\n",
    "import FATS #Copy the lomb.py, FeatureFunctionLib.py and Feature.py from the github account and paste it in your username/lib/python2.7/sites-package/FATS folder"
   ]
  },
  {
   "cell_type": "code",
   "execution_count": 5,
   "metadata": {},
   "outputs": [
    {
     "name": "stderr",
     "output_type": "stream",
     "text": [
      "/home/tanveer/anaconda2/lib/python2.7/site-packages/ipykernel_launcher.py:8: UserWarning: genfromtxt: Empty input file: \"../dat_files/lmc_sc1_i_55343.dat\"\n",
      "  \n",
      "/home/tanveer/anaconda2/lib/python2.7/site-packages/ipykernel_launcher.py:8: UserWarning: genfromtxt: Empty input file: \"../dat_files/lmc_sc1_i_55327.dat\"\n",
      "  \n",
      "/home/tanveer/anaconda2/lib/python2.7/site-packages/ipykernel_launcher.py:8: UserWarning: genfromtxt: Empty input file: \"../dat_files/lmc_sc1_i_57832.dat\"\n",
      "  \n"
     ]
    }
   ],
   "source": [
    "#Loop over all the .dat files. Change path to the dat folder\n",
    "import glob\n",
    "path = \"../dat_files/*.dat\"\n",
    "\n",
    "resultlist = []\n",
    "\n",
    "for fname in glob.glob(path):\n",
    "    data = np.genfromtxt(fname, usecols=(0,1,2)) #Magnitude, Time, Error in Mag\n",
    "    \n",
    "    if data.shape[0] != 0: #Some dat files are empty. This step makes sure that we are not using those.\n",
    "        data = np.array([data[:,1], data[:,0], data[:,2]]) #Following the syntax from the FATS Documentation (http://isadoranun.github.io/tsfeat/FeaturesDocumentation.html)\n",
    "    \n",
    "        #FATS extracts features in this step\n",
    "        features = FATS.FeatureSpace(featureList=['Mean', 'Std'], Data=['time','magnitude', 'error'])\n",
    "        result = features.calculateFeature(data)\n",
    "    \n",
    "        #This step is required to include the star ID in the dictionary\n",
    "        tmp = result.result(method=\"dict\")\n",
    "        tmp['ID'] = fname[:-3] \n",
    "    \n",
    "        resultlist.append(tmp)"
   ]
  },
  {
   "cell_type": "code",
   "execution_count": 6,
   "metadata": {
    "collapsed": true
   },
   "outputs": [],
   "source": [
    "#Convert the dictionary to pandas dataframe\n",
    "import pandas as pd\n",
    "dfresult = pd.DataFrame.from_dict(resultlist)\n",
    "\n",
    "dfresult.to_csv(r'lc_output.txt', sep=' ', index = False)"
   ]
  },
  {
   "cell_type": "code",
   "execution_count": null,
   "metadata": {
    "collapsed": true
   },
   "outputs": [],
   "source": []
  }
 ],
 "metadata": {
  "kernelspec": {
   "display_name": "Python 2",
   "language": "python",
   "name": "python2"
  },
  "language_info": {
   "codemirror_mode": {
    "name": "ipython",
    "version": 2
   },
   "file_extension": ".py",
   "mimetype": "text/x-python",
   "name": "python",
   "nbconvert_exporter": "python",
   "pygments_lexer": "ipython2",
   "version": "2.7.13"
  }
 },
 "nbformat": 4,
 "nbformat_minor": 2
}

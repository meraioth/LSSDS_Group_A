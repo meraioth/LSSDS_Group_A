{
 "cells": [
  {
   "cell_type": "markdown",
   "metadata": {},
   "source": [
    "# FATS feature extractor using OGLE lightcurves\n",
    "\n",
    "Date: 24 Aug 2017\n",
    "\n",
    "Author: Tanveer Karim\n",
    "\n",
    "This code is written in Python 2.7. Note that there are some bugs in the FATS package and I had to manually go into the code to fix the problems, namely include the int() function in twenty instances where I would get errors.\n",
    "\n",
    "Here, the code will extract all the features from the lightcurves.\n",
    "\n",
    "Update 26 Aug 2017: Updated for running in .dat files in a specified folder and produces a pandas dataframe and produces \n",
    "lc_output.txt file containing all the information."
   ]
  },
  {
   "cell_type": "code",
   "execution_count": 54,
   "metadata": {},
   "outputs": [],
   "source": [
    "import numpy as np\n",
    "import FATS #Copy the lomb.py, FeatureFunctionLib.py and Feature.py from the github account and paste it in your username/lib/python2.7/sites-package/FATS folder"
   ]
  },
  {
   "cell_type": "code",
   "execution_count": 55,
   "metadata": {
    "collapsed": true
   },
   "outputs": [],
   "source": [
    "#Test timing of code. Testing 4,000 lc.\n",
    "import time"
   ]
  },
  {
   "cell_type": "code",
   "execution_count": 56,
   "metadata": {},
   "outputs": [],
   "source": [
    "# #Loop over all the .dat files. Change path to the dat folder\n",
    "# import glob\n",
    "\n",
    "# def extract_test_features(files):\n",
    "#     path = \"../dat_files/*.dat\"\n",
    "#     # path = \"../catalina_catalog_unzipped/catalina's catalog/*.txt\"\n",
    "\n",
    "#     resultlist = []\n",
    "\n",
    "#     t0 = time.time() #Test time start\n",
    "\n",
    "#     files = glob.glob(path)\n",
    "#     files[10]\n",
    "#     for index in xrange(100):\n",
    "#         files[index]\n",
    "#         fname = files[index]\n",
    "#         data = np.genfromtxt(fname, usecols=(0,1,2)) #Magnitude, Time, Error in Mag\n",
    "#         # data = np.genfromtxt(fname, usecols=(1,2,3), delimiter=\",\") #Magnitude, Time, Error in Mag\n",
    "\n",
    "#         if data.shape[0] != 0: #Some dat files are empty. This step makes sure that we are not using those.\n",
    "#             data = np.array([data[:,1], data[:,0], data[:,2]]) #Following the syntax from the FATS Documentation (http://isadoranun.github.io/tsfeat/FeaturesDocumentation.html)\n",
    "\n",
    "#             #FATS extracts features in this step\n",
    "#             features = FATS.FeatureSpace(Data=['time','magnitude', 'error'])\n",
    "#             result = features.calculateFeature(data)\n",
    "\n",
    "#             #This step is required to include the star ID in the dictionary\n",
    "#             tmp = result.result(method=\"dict\")\n",
    "#             tmp['ID'] = fname[:-3] \n",
    "\n",
    "#             resultlist.append(tmp)\n",
    "\n",
    "#     t1 = time.time()\n",
    "\n",
    "#     totaltime = t1 - t0\n",
    "#     print(totaltime)\n",
    "    \n",
    "    \n",
    "# extract_test_features(10)"
   ]
  },
  {
   "cell_type": "code",
   "execution_count": 57,
   "metadata": {
    "collapsed": true
   },
   "outputs": [],
   "source": [
    "# #Convert the dictionary to pandas dataframe\n",
    "# import pandas as pd\n",
    "# dfresult = pd.DataFrame.from_dict(resultlist)\n",
    "\n",
    "# dfresult.to_csv(r'lc_output.txt', sep=' ', index = False)"
   ]
  },
  {
   "cell_type": "code",
   "execution_count": 58,
   "metadata": {},
   "outputs": [
    {
     "name": "stdout",
     "output_type": "stream",
     "text": [
      "../catalina_catalog_unzipped/1004058008475.txt\n",
      "Warning: the feature Color could not be calculated because ['magnitude', 'time', 'magnitude2'] are needed.\n",
      "Warning: the feature Eta_color could not be calculated because ['magnitude', 'time', 'magnitude2'] are needed.\n",
      "Warning: the feature Q31_color could not be calculated because ['magnitude', 'time', 'magnitude2'] are needed.\n",
      "Warning: the feature StetsonJ could not be calculated because ['magnitude', 'time', 'error', 'magnitude2', 'error2'] are needed.\n",
      "Warning: the feature StetsonL could not be calculated because ['magnitude', 'time', 'error', 'magnitude2', 'error2'] are needed.\n",
      "../catalina_catalog_unzipped/1004058011901.txt\n",
      "Warning: the feature Color could not be calculated because ['magnitude', 'time', 'magnitude2'] are needed.\n",
      "Warning: the feature Eta_color could not be calculated because ['magnitude', 'time', 'magnitude2'] are needed.\n",
      "Warning: the feature Q31_color could not be calculated because ['magnitude', 'time', 'magnitude2'] are needed.\n",
      "Warning: the feature StetsonJ could not be calculated because ['magnitude', 'time', 'error', 'magnitude2', 'error2'] are needed.\n",
      "Warning: the feature StetsonL could not be calculated because ['magnitude', 'time', 'error', 'magnitude2', 'error2'] are needed.\n",
      "../catalina_catalog_unzipped/1004058012228.txt\n",
      "Warning: the feature Color could not be calculated because ['magnitude', 'time', 'magnitude2'] are needed.\n",
      "Warning: the feature Eta_color could not be calculated because ['magnitude', 'time', 'magnitude2'] are needed.\n",
      "Warning: the feature Q31_color could not be calculated because ['magnitude', 'time', 'magnitude2'] are needed.\n",
      "Warning: the feature StetsonJ could not be calculated because ['magnitude', 'time', 'error', 'magnitude2', 'error2'] are needed.\n",
      "Warning: the feature StetsonL could not be calculated because ['magnitude', 'time', 'error', 'magnitude2', 'error2'] are needed.\n",
      "../catalina_catalog_unzipped/1004058014882.txt\n",
      "Warning: the feature Color could not be calculated because ['magnitude', 'time', 'magnitude2'] are needed.\n",
      "Warning: the feature Eta_color could not be calculated because ['magnitude', 'time', 'magnitude2'] are needed.\n",
      "Warning: the feature Q31_color could not be calculated because ['magnitude', 'time', 'magnitude2'] are needed.\n",
      "Warning: the feature StetsonJ could not be calculated because ['magnitude', 'time', 'error', 'magnitude2', 'error2'] are needed.\n",
      "Warning: the feature StetsonL could not be calculated because ['magnitude', 'time', 'error', 'magnitude2', 'error2'] are needed.\n",
      "../catalina_catalog_unzipped/1004058016480.txt\n",
      "Warning: the feature Color could not be calculated because ['magnitude', 'time', 'magnitude2'] are needed.\n",
      "Warning: the feature Eta_color could not be calculated because ['magnitude', 'time', 'magnitude2'] are needed.\n",
      "Warning: the feature Q31_color could not be calculated because ['magnitude', 'time', 'magnitude2'] are needed.\n",
      "Warning: the feature StetsonJ could not be calculated because ['magnitude', 'time', 'error', 'magnitude2', 'error2'] are needed.\n",
      "Warning: the feature StetsonL could not be calculated because ['magnitude', 'time', 'error', 'magnitude2', 'error2'] are needed.\n",
      "../catalina_catalog_unzipped/1004058019259.txt\n",
      "Warning: the feature Color could not be calculated because ['magnitude', 'time', 'magnitude2'] are needed.\n",
      "Warning: the feature Eta_color could not be calculated because ['magnitude', 'time', 'magnitude2'] are needed.\n",
      "Warning: the feature Q31_color could not be calculated because ['magnitude', 'time', 'magnitude2'] are needed.\n",
      "Warning: the feature StetsonJ could not be calculated because ['magnitude', 'time', 'error', 'magnitude2', 'error2'] are needed.\n",
      "Warning: the feature StetsonL could not be calculated because ['magnitude', 'time', 'error', 'magnitude2', 'error2'] are needed.\n",
      "../catalina_catalog_unzipped/1004058022057.txt\n",
      "Warning: the feature Color could not be calculated because ['magnitude', 'time', 'magnitude2'] are needed.\n",
      "Warning: the feature Eta_color could not be calculated because ['magnitude', 'time', 'magnitude2'] are needed.\n",
      "Warning: the feature Q31_color could not be calculated because ['magnitude', 'time', 'magnitude2'] are needed.\n",
      "Warning: the feature StetsonJ could not be calculated because ['magnitude', 'time', 'error', 'magnitude2', 'error2'] are needed.\n",
      "Warning: the feature StetsonL could not be calculated because ['magnitude', 'time', 'error', 'magnitude2', 'error2'] are needed.\n",
      "../catalina_catalog_unzipped/1004058026832.txt\n",
      "Warning: the feature Color could not be calculated because ['magnitude', 'time', 'magnitude2'] are needed.\n",
      "Warning: the feature Eta_color could not be calculated because ['magnitude', 'time', 'magnitude2'] are needed.\n",
      "Warning: the feature Q31_color could not be calculated because ['magnitude', 'time', 'magnitude2'] are needed.\n",
      "Warning: the feature StetsonJ could not be calculated because ['magnitude', 'time', 'error', 'magnitude2', 'error2'] are needed.\n",
      "Warning: the feature StetsonL could not be calculated because ['magnitude', 'time', 'error', 'magnitude2', 'error2'] are needed.\n",
      "../catalina_catalog_unzipped/1004058027581.txt\n",
      "Warning: the feature Color could not be calculated because ['magnitude', 'time', 'magnitude2'] are needed.\n",
      "Warning: the feature Eta_color could not be calculated because ['magnitude', 'time', 'magnitude2'] are needed.\n",
      "Warning: the feature Q31_color could not be calculated because ['magnitude', 'time', 'magnitude2'] are needed.\n",
      "Warning: the feature StetsonJ could not be calculated because ['magnitude', 'time', 'error', 'magnitude2', 'error2'] are needed.\n",
      "Warning: the feature StetsonL could not be calculated because ['magnitude', 'time', 'error', 'magnitude2', 'error2'] are needed.\n",
      "../catalina_catalog_unzipped/1004058038274.txt\n",
      "Warning: the feature Color could not be calculated because ['magnitude', 'time', 'magnitude2'] are needed.\n",
      "Warning: the feature Eta_color could not be calculated because ['magnitude', 'time', 'magnitude2'] are needed.\n",
      "Warning: the feature Q31_color could not be calculated because ['magnitude', 'time', 'magnitude2'] are needed.\n",
      "Warning: the feature StetsonJ could not be calculated because ['magnitude', 'time', 'error', 'magnitude2', 'error2'] are needed.\n",
      "Warning: the feature StetsonL could not be calculated because ['magnitude', 'time', 'error', 'magnitude2', 'error2'] are needed.\n",
      "../catalina_catalog_unzipped/1004058048406.txt\n",
      "Warning: the feature Color could not be calculated because ['magnitude', 'time', 'magnitude2'] are needed.\n",
      "Warning: the feature Eta_color could not be calculated because ['magnitude', 'time', 'magnitude2'] are needed.\n",
      "Warning: the feature Q31_color could not be calculated because ['magnitude', 'time', 'magnitude2'] are needed.\n",
      "Warning: the feature StetsonJ could not be calculated because ['magnitude', 'time', 'error', 'magnitude2', 'error2'] are needed.\n",
      "Warning: the feature StetsonL could not be calculated because ['magnitude', 'time', 'error', 'magnitude2', 'error2'] are needed.\n",
      "../catalina_catalog_unzipped/1004058049533.txt\n",
      "Warning: the feature Color could not be calculated because ['magnitude', 'time', 'magnitude2'] are needed.\n",
      "Warning: the feature Eta_color could not be calculated because ['magnitude', 'time', 'magnitude2'] are needed.\n",
      "Warning: the feature Q31_color could not be calculated because ['magnitude', 'time', 'magnitude2'] are needed.\n",
      "Warning: the feature StetsonJ could not be calculated because ['magnitude', 'time', 'error', 'magnitude2', 'error2'] are needed.\n",
      "Warning: the feature StetsonL could not be calculated because ['magnitude', 'time', 'error', 'magnitude2', 'error2'] are needed.\n",
      "../catalina_catalog_unzipped/1004058052400.txt\n",
      "Warning: the feature Color could not be calculated because ['magnitude', 'time', 'magnitude2'] are needed.\n",
      "Warning: the feature Eta_color could not be calculated because ['magnitude', 'time', 'magnitude2'] are needed.\n",
      "Warning: the feature Q31_color could not be calculated because ['magnitude', 'time', 'magnitude2'] are needed.\n",
      "Warning: the feature StetsonJ could not be calculated because ['magnitude', 'time', 'error', 'magnitude2', 'error2'] are needed.\n",
      "Warning: the feature StetsonL could not be calculated because ['magnitude', 'time', 'error', 'magnitude2', 'error2'] are needed.\n"
     ]
    },
    {
     "name": "stdout",
     "output_type": "stream",
     "text": [
      "../catalina_catalog_unzipped/1004058053261.txt\n",
      "Warning: the feature Color could not be calculated because ['magnitude', 'time', 'magnitude2'] are needed.\n",
      "Warning: the feature Eta_color could not be calculated because ['magnitude', 'time', 'magnitude2'] are needed.\n",
      "Warning: the feature Q31_color could not be calculated because ['magnitude', 'time', 'magnitude2'] are needed.\n",
      "Warning: the feature StetsonJ could not be calculated because ['magnitude', 'time', 'error', 'magnitude2', 'error2'] are needed.\n",
      "Warning: the feature StetsonL could not be calculated because ['magnitude', 'time', 'error', 'magnitude2', 'error2'] are needed.\n",
      "../catalina_catalog_unzipped/1004058055227.txt\n",
      "Warning: the feature Color could not be calculated because ['magnitude', 'time', 'magnitude2'] are needed.\n",
      "Warning: the feature Eta_color could not be calculated because ['magnitude', 'time', 'magnitude2'] are needed.\n",
      "Warning: the feature Q31_color could not be calculated because ['magnitude', 'time', 'magnitude2'] are needed.\n",
      "Warning: the feature StetsonJ could not be calculated because ['magnitude', 'time', 'error', 'magnitude2', 'error2'] are needed.\n",
      "Warning: the feature StetsonL could not be calculated because ['magnitude', 'time', 'error', 'magnitude2', 'error2'] are needed.\n",
      "88.3334560394\n"
     ]
    }
   ],
   "source": [
    "#Loop over all the .txt files. Change path to the dat folder\n",
    "import glob\n",
    "\n",
    "resultlist = []\n",
    "\n",
    "def extract_catalina_features(files):\n",
    "    # path = \"../catalina_catalog_unzipped/catalina's catalog/*.txt\"\n",
    "    path = \"../catalina_catalog_unzipped/*.txt\"\n",
    "\n",
    "    \n",
    "\n",
    "    t0 = time.time() #Test time start\n",
    "\n",
    "    files = glob.glob(path)\n",
    "    files[10]\n",
    "    for index in xrange(15):\n",
    "        files[index]\n",
    "        fname = files[index]\n",
    "        print fname\n",
    "        data = np.genfromtxt(fname, usecols=(1,2,3), delimiter=\",\") #Magnitude, Time, Error in Mag\n",
    "\n",
    "\n",
    "        if data.shape[0] != 0: #Some dat files are empty. This step makes sure that we are not using those.\n",
    "            data = np.array([data[:,1], data[:,0], data[:,2]]) #Following the syntax from the FATS Documentation (http://isadoranun.github.io/tsfeat/FeaturesDocumentation.html)\n",
    "\n",
    "            #FATS extracts features in this step\n",
    "            features = FATS.FeatureSpace(Data=['time','magnitude', 'error'])\n",
    "            result = features.calculateFeature(data)\n",
    "            \n",
    "\n",
    "            # This step is required to include the star ID in the dictionary\n",
    "            tmp = result.result(method=\"dict\")\n",
    "            tmp['ID'] = fname[:-3]\n",
    "\n",
    "            resultlist.append(tmp)\n",
    "\n",
    "    t1 = time.time()\n",
    "\n",
    "    totaltime = t1 - t0\n",
    "    print(totaltime)\n",
    "    \n",
    "    \n",
    "extract_catalina_features(10)\n",
    "\n",
    "\n"
   ]
  },
  {
   "cell_type": "code",
   "execution_count": 59,
   "metadata": {},
   "outputs": [],
   "source": [
    "# print resultlist"
   ]
  },
  {
   "cell_type": "code",
   "execution_count": 60,
   "metadata": {
    "collapsed": true
   },
   "outputs": [],
   "source": [
    "#Convert the dictionary to pandas dataframe\n",
    "import pandas as pd\n",
    "dfresult = pd.DataFrame.from_dict(resultlist)\n",
    "\n",
    "dfresult.to_csv(r'lc_output_catalina.txt', sep=' ', index = False)"
   ]
  },
  {
   "cell_type": "code",
   "execution_count": null,
   "metadata": {
    "collapsed": true
   },
   "outputs": [],
   "source": []
  }
 ],
 "metadata": {
  "kernelspec": {
   "display_name": "Python 2",
   "language": "python",
   "name": "python2"
  },
  "language_info": {
   "codemirror_mode": {
    "name": "ipython",
    "version": 2
   },
   "file_extension": ".py",
   "mimetype": "text/x-python",
   "name": "python",
   "nbconvert_exporter": "python",
   "pygments_lexer": "ipython2",
   "version": "2.7.13"
  }
 },
 "nbformat": 4,
 "nbformat_minor": 2
}

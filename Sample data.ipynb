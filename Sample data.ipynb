{
 "cells": [
  {
   "cell_type": "markdown",
   "metadata": {},
   "source": [
    "## Merging BVI and Photometry data\n"
   ]
  },
  {
   "cell_type": "code",
   "execution_count": 70,
   "metadata": {},
   "outputs": [],
   "source": [
    "import pandas as pd\n",
    "import os\n",
    "import numpy as np\n",
    "import pylab as pl\n",
    "import matplotlib.pyplot as plt\n",
    "import re\n",
    "import FATS\n",
    "\n",
    "\n",
    "\n",
    "\n",
    "def get_dat_files(folder):\n",
    "    folder_files= os.listdir()\n",
    "    dat_files = filter(lambda x: x.endswith('.dat'), folder_files)\n",
    "    return dat_files\n",
    "\n",
    "\n",
    "def open_dat(file):\n",
    "    df = pd.read_csv(file, sep='\\s+', header=None, skiprows=0)\n",
    "    \n",
    "def not_use_this():\n",
    "    bvi_table =pd.read_csv('bvi_table.txt', sep='\\s+', skiprows=6,dtype='string')\n",
    "\n",
    "    photometry_table =pd.read_csv('photometry_table.txt', sep='\\s+', skiprows=6,dtype='string')\n",
    "    stars_ID=[]\n",
    "    star_photo = {}\n",
    "    for file in dat_files:\n",
    "        #opening dat files\n",
    "        star_id=re.split('\\_|.dat',file)[3]\n",
    "        stars_ID.append(star_id)\n",
    "        #)\n",
    "        star_photo[star_id]=df\n",
    "\n",
    "    star_table = {}\n",
    "    \n",
    "    for star in stars_ID:\n",
    "\n",
    "        for index in xrange(star_info['Field'].size):\n",
    "\n",
    "            if star_info['Field'][index] == star:\n",
    "                star_table[star]=star_info.at(index)\n",
    "\n",
    "\n",
    "    for x in star_table:\n",
    "        print x\n",
    "\n",
    "    print star_table\n",
    "    print star_photo"
   ]
  },
  {
   "cell_type": "code",
   "execution_count": null,
   "metadata": {
    "collapsed": true
   },
   "outputs": [],
   "source": []
  },
  {
   "cell_type": "code",
   "execution_count": null,
   "metadata": {
    "collapsed": true
   },
   "outputs": [],
   "source": []
  },
  {
   "cell_type": "code",
   "execution_count": null,
   "metadata": {
    "collapsed": true
   },
   "outputs": [],
   "source": []
  }
 ],
 "metadata": {
  "kernelspec": {
   "display_name": "Python 2",
   "language": "python",
   "name": "python2"
  },
  "language_info": {
   "codemirror_mode": {
    "name": "ipython",
    "version": 2
   },
   "file_extension": ".py",
   "mimetype": "text/x-python",
   "name": "python",
   "nbconvert_exporter": "python",
   "pygments_lexer": "ipython2",
   "version": "2.7.13"
  }
 },
 "nbformat": 4,
 "nbformat_minor": 2
}

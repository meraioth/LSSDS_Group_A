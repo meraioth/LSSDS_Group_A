{
 "cells": [
  {
   "cell_type": "markdown",
   "metadata": {},
   "source": [
    "# Testing the FATS package using sample data from OGLE\n",
    "\n",
    "Date: 24 Aug 2017\n",
    "\n",
    "Author: Tanveer Karim\n",
    "\n",
    "This code is written in Python 2.7. Note that there are some bugs in the FATS package and I had to manually go into the code to fix the problems, namely include the int() function in twenty instances where I would get errors.\n",
    "\n",
    "Here, the code will extract all the features from the lightcurves.\n",
    "\n",
    "Update 25 Aug 2017: Updated for running in .dat files in a specified folder and produces a .npy file as an output with results."
   ]
  },
  {
   "cell_type": "code",
   "execution_count": 2,
   "metadata": {},
   "outputs": [],
   "source": [
    "import numpy as np\n",
    "import FATS #Copy the lomb.py, FeatureFunctionLib.py and Feature.py from the github account and paste it in your username/lib/python2.7/sites-package/FATS folder"
   ]
  },
  {
   "cell_type": "code",
   "execution_count": null,
   "metadata": {},
   "outputs": [
    {
     "name": "stdout",
     "output_type": "stream",
     "text": [
      "Warning: the feature Color could not be calculated because ['magnitude', 'time', 'magnitude2'] are needed.\n",
      "Warning: the feature Eta_color could not be calculated because ['magnitude', 'time', 'magnitude2'] are needed.\n",
      "Warning: the feature Q31_color could not be calculated because ['magnitude', 'time', 'magnitude2'] are needed.\n",
      "Warning: the feature StetsonJ could not be calculated because ['magnitude', 'time', 'error', 'magnitude2', 'error2'] are needed.\n",
      "Warning: the feature StetsonL could not be calculated because ['magnitude', 'time', 'error', 'magnitude2', 'error2'] are needed.\n"
     ]
    }
   ],
   "source": [
    "#Loop over all the .dat files. Change path to the dat folder\n",
    "import glob\n",
    "path = \"*.dat\"\n",
    "\n",
    "resultlist = []\n",
    "\n",
    "for fname in glob.glob(path):\n",
    "    data = np.genfromtxt(fname, usecols=(0,1,2)) #Magnitude, Time, Error in Mag\n",
    "    data = np.array([data[:,1], data[:,0], data[:,2]]) #Following the syntax from the FATS Documentation (http://isadoranun.github.io/tsfeat/FeaturesDocumentation.html)\n",
    "    \n",
    "    #FATS extracts features in this step\n",
    "    features = FATS.FeatureSpace(Data=['time','magnitude', 'error'])\n",
    "    result = features.calculateFeature(data)\n",
    "    \n",
    "    #This step is required to include the star ID in the dictionary\n",
    "    tmp = result.result(method=\"dict\")\n",
    "    tmp['ID'] = fname[:-3] \n",
    "    \n",
    "    resultlist.append(tmp)"
   ]
  },
  {
   "cell_type": "code",
   "execution_count": 40,
   "metadata": {},
   "outputs": [
    {
     "data": {
      "text/html": [
       "<div>\n",
       "<style>\n",
       "    .dataframe thead tr:only-child th {\n",
       "        text-align: right;\n",
       "    }\n",
       "\n",
       "    .dataframe thead th {\n",
       "        text-align: left;\n",
       "    }\n",
       "\n",
       "    .dataframe tbody tr th {\n",
       "        vertical-align: top;\n",
       "    }\n",
       "</style>\n",
       "<table border=\"1\" class=\"dataframe\">\n",
       "  <thead>\n",
       "    <tr style=\"text-align: right;\">\n",
       "      <th></th>\n",
       "      <th>ID</th>\n",
       "      <th>Mean</th>\n",
       "      <th>Std</th>\n",
       "    </tr>\n",
       "  </thead>\n",
       "  <tbody>\n",
       "    <tr>\n",
       "      <th>0</th>\n",
       "      <td>lmc_sc1_i_51882.</td>\n",
       "      <td>15.225559</td>\n",
       "      <td>0.006082</td>\n",
       "    </tr>\n",
       "    <tr>\n",
       "      <th>1</th>\n",
       "      <td>lmc_sc1_i_51948.</td>\n",
       "      <td>15.759443</td>\n",
       "      <td>0.007028</td>\n",
       "    </tr>\n",
       "    <tr>\n",
       "      <th>2</th>\n",
       "      <td>lmc_sc1_i_52086.</td>\n",
       "      <td>16.438921</td>\n",
       "      <td>0.010299</td>\n",
       "    </tr>\n",
       "  </tbody>\n",
       "</table>\n",
       "</div>"
      ],
      "text/plain": [
       "                 ID       Mean       Std\n",
       "0  lmc_sc1_i_51882.  15.225559  0.006082\n",
       "1  lmc_sc1_i_51948.  15.759443  0.007028\n",
       "2  lmc_sc1_i_52086.  16.438921  0.010299"
      ]
     },
     "execution_count": 40,
     "metadata": {},
     "output_type": "execute_result"
    }
   ],
   "source": [
    "#Convert the dictionary to pandas dataframe\n",
    "import pandas as pd\n",
    "pd.DataFrame.from_dict(resultlist)"
   ]
  },
  {
   "cell_type": "code",
   "execution_count": null,
   "metadata": {
    "collapsed": true
   },
   "outputs": [],
   "source": []
  }
 ],
 "metadata": {
  "kernelspec": {
   "display_name": "Python 2",
   "language": "python",
   "name": "python2"
  },
  "language_info": {
   "codemirror_mode": {
    "name": "ipython",
    "version": 2
   },
   "file_extension": ".py",
   "mimetype": "text/x-python",
   "name": "python",
   "nbconvert_exporter": "python",
   "pygments_lexer": "ipython2",
   "version": "2.7.13"
  }
 },
 "nbformat": 4,
 "nbformat_minor": 2
}

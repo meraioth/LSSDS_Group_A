{
 "cells": [
  {
   "cell_type": "code",
   "execution_count": 1,
   "metadata": {},
   "outputs": [
    {
     "name": "stderr",
     "output_type": "stream",
     "text": [
      "/home/tanveer/anaconda2/lib/python2.7/site-packages/statsmodels/compat/pandas.py:56: FutureWarning: The pandas.core.datetools module is deprecated and will be removed in a future version. Please use the pandas.tseries module instead.\n",
      "  from pandas.core import datetools\n"
     ]
    }
   ],
   "source": [
    "import numpy as np\n",
    "import FATS\n",
    "import ipy_table as ipy\n",
    "from astropy.table import Table"
   ]
  },
  {
   "cell_type": "code",
   "execution_count": 2,
   "metadata": {
    "collapsed": true
   },
   "outputs": [],
   "source": [
    "mag = [ 0.46057565,   0.5137294 ,   0.70136533,   0.21454228,\n",
    "          0.547923  ,   0.33433717,   0.4487987 ,   0.55571062,\n",
    "          0.24388037,   0.44793366,   0.30175873,   0.88326381,\n",
    "          0.12208977,   0.37088649,   0.5945731 ,   0.74705894,\n",
    "          0.24551664,   0.36009236,   0.80661981,   0.04961063,\n",
    "          0.8774731,   0.97388975,   0.95775496,   0.34195989,\n",
    "          0.54201036,   0.87854618,   0.07388174,   0.21543205,\n",
    "          0.59295337,   0.56771493]\n",
    "\n",
    "time = [  0.        ,   1.        ,   2.        ,   3.        ,\n",
    "          4.        ,   5.        ,   6.        ,   7.        ,\n",
    "          8.        ,   9.        ,  10.        ,  11.        ,\n",
    "         12.        ,  13.        ,  14.        ,  15.        ,\n",
    "         16.        ,  17.        ,  18.        ,  19.        ,\n",
    "         20.        ,  21.        ,  22.        ,  23.        ,\n",
    "         24.        ,  25.        ,  26.        ,  27.        ,\n",
    "         28.        ,  29.        ]"
   ]
  },
  {
   "cell_type": "code",
   "execution_count": 3,
   "metadata": {},
   "outputs": [],
   "source": [
    "lc_example = np.array([mag, time])"
   ]
  },
  {
   "cell_type": "code",
   "execution_count": 4,
   "metadata": {},
   "outputs": [
    {
     "name": "stdout",
     "output_type": "stream",
     "text": [
      "Warning: the feature Beyond1Std could not be calculated because ['magnitude', 'error'] are needed.\n",
      "Warning: the feature CAR_mean could not be calculated because ['magnitude', 'time', 'error'] are needed.\n",
      "Warning: the feature CAR_sigma could not be calculated because ['magnitude', 'time', 'error'] are needed.\n",
      "Warning: the feature CAR_tau could not be calculated because ['magnitude', 'time', 'error'] are needed.\n",
      "Warning: the feature Color could not be calculated because ['magnitude', 'time', 'magnitude2'] are needed.\n",
      "Warning: the feature Eta_color could not be calculated because ['magnitude', 'time', 'magnitude2'] are needed.\n",
      "Warning: the feature Q31_color could not be calculated because ['magnitude', 'time', 'magnitude2'] are needed.\n",
      "Warning: the feature StetsonJ could not be calculated because ['magnitude', 'time', 'error', 'magnitude2', 'error2'] are needed.\n",
      "Warning: the feature StetsonK could not be calculated because ['magnitude', 'error'] are needed.\n",
      "Warning: the feature StetsonK_AC could not be calculated because ['magnitude', 'time', 'error'] are needed.\n",
      "Warning: the feature StetsonL could not be calculated because ['magnitude', 'time', 'error', 'magnitude2', 'error2'] are needed.\n"
     ]
    }
   ],
   "source": [
    "a = FATS.FeatureSpace(Data=['magnitude','time'])\n",
    "b = a.calculateFeature(lc_example)"
   ]
  },
  {
   "cell_type": "code",
   "execution_count": 5,
   "metadata": {},
   "outputs": [
    {
     "data": {
      "text/plain": [
       "{'Amplitude': 0.45203808500000003,\n",
       " 'AndersonDarling': 0.5609319461986676,\n",
       " 'Autocor_length': 1.0,\n",
       " 'Con': 0.0,\n",
       " 'Eta_e': 2.2407295605600992,\n",
       " 'FluxPercentileRatioMid20': 0.12652848383490223,\n",
       " 'FluxPercentileRatioMid35': 0.27527676157024561,\n",
       " 'FluxPercentileRatioMid50': 0.48452897357428903,\n",
       " 'FluxPercentileRatioMid65': 0.74190712002599479,\n",
       " 'FluxPercentileRatioMid80': 0.78506873174615477,\n",
       " 'Freq1_harmonics_amplitude_0': 0.19911574784580291,\n",
       " 'Freq1_harmonics_amplitude_1': 0.081539210122016065,\n",
       " 'Freq1_harmonics_amplitude_2': 0.082011561049522827,\n",
       " 'Freq1_harmonics_amplitude_3': 0.020836236982159365,\n",
       " 'Freq1_harmonics_rel_phase_0': 0.0,\n",
       " 'Freq1_harmonics_rel_phase_1': 1.1881514506195523,\n",
       " 'Freq1_harmonics_rel_phase_2': -0.86049831196797089,\n",
       " 'Freq1_harmonics_rel_phase_3': 0.092669362338493419,\n",
       " 'Freq2_harmonics_amplitude_0': 0.17744121247876493,\n",
       " 'Freq2_harmonics_amplitude_1': 0.085202711561155414,\n",
       " 'Freq2_harmonics_amplitude_2': 0.029292994057849641,\n",
       " 'Freq2_harmonics_amplitude_3': 0.10580537215155721,\n",
       " 'Freq2_harmonics_rel_phase_0': 0.0,\n",
       " 'Freq2_harmonics_rel_phase_1': 0.71297425974323037,\n",
       " 'Freq2_harmonics_rel_phase_2': 0.40424229663763822,\n",
       " 'Freq2_harmonics_rel_phase_3': 1.2094651003769044,\n",
       " 'Freq3_harmonics_amplitude_0': 0.11298809323068831,\n",
       " 'Freq3_harmonics_amplitude_1': 0.01467933203120329,\n",
       " 'Freq3_harmonics_amplitude_2': 0.031945223932249162,\n",
       " 'Freq3_harmonics_amplitude_3': 0.050906557039529926,\n",
       " 'Freq3_harmonics_rel_phase_0': 0.0,\n",
       " 'Freq3_harmonics_rel_phase_1': -0.0023081261178532486,\n",
       " 'Freq3_harmonics_rel_phase_2': -1.9496440612055514,\n",
       " 'Freq3_harmonics_rel_phase_3': -0.089420173179651452,\n",
       " 'LinearTrend': 0.0038579418998887656,\n",
       " 'MaxSlope': 0.82786247999999996,\n",
       " 'Mean': 0.49906275999999999,\n",
       " 'Meanvariance': 0.52338621576828859,\n",
       " 'MedianAbsDev': 0.19980330000000002,\n",
       " 'MedianBRP': 0.26666666666666666,\n",
       " 'PairSlopeTrend': 0.23333333333333334,\n",
       " 'PercentAmplitude': 0.99914749492471577,\n",
       " 'PercentDifferenceFluxPercentile': 1.7485283074330775,\n",
       " 'PeriodLS': 3.4117647058823533,\n",
       " 'Period_fit': 1.0,\n",
       " 'Psi_CS': 0.20351663764780675,\n",
       " 'Psi_eta': 1.1792403269622092,\n",
       " 'Q31': 0.36476393250000005,\n",
       " 'Rcs': 0.20128154350343125,\n",
       " 'Skew': 0.19267211898286332,\n",
       " 'SlottedA_length': 1.0,\n",
       " 'SmallKurtosis': -0.68237662316656911,\n",
       " 'Std': 0.26120256938727759}"
      ]
     },
     "execution_count": 5,
     "metadata": {},
     "output_type": "execute_result"
    }
   ],
   "source": [
    "b.result(method=\"dict\")"
   ]
  },
  {
   "cell_type": "code",
   "execution_count": null,
   "metadata": {
    "collapsed": true
   },
   "outputs": [],
   "source": []
  }
 ],
 "metadata": {
  "kernelspec": {
   "display_name": "Python 2",
   "language": "python",
   "name": "python2"
  },
  "language_info": {
   "codemirror_mode": {
    "name": "ipython",
    "version": 2
   },
   "file_extension": ".py",
   "mimetype": "text/x-python",
   "name": "python",
   "nbconvert_exporter": "python",
   "pygments_lexer": "ipython2",
   "version": "2.7.13"
  }
 },
 "nbformat": 4,
 "nbformat_minor": 2
}

{
 "cells": [
  {
   "cell_type": "markdown",
   "metadata": {},
   "source": [
    "# Testing the FATS package using sample data from OGLE\n",
    "\n",
    "Date: 24 Aug 2017\n",
    "\n",
    "Author: Tanveer Karim\n",
    "\n",
    "This code is written in Python 2.7. Note that there are some bugs in the FATS package and I had to manually go into the code to fix the problems, namely include the int() function in twenty instances where I would get errors.\n",
    "\n",
    "Here, the code will extract all the features from the lightcurves.\n",
    "\n",
    "Update 25 Aug 2017: Updated for running in .dat files in a specified folder and produces a .npy file as an output with results."
   ]
  },
  {
   "cell_type": "code",
   "execution_count": 2,
   "metadata": {},
   "outputs": [],
   "source": [
    "import numpy as np\n",
    "import FATS"
   ]
  },
  {
   "cell_type": "code",
   "execution_count": 3,
   "metadata": {
    "collapsed": true
   },
   "outputs": [],
   "source": [
    "resultlist = []\n",
    "\n",
    "#Loop over all the .dat files. Change path to the dat folder\n",
    "import glob\n",
    "path = \"*.dat\"\n",
    "for fname in glob.glob(path):\n",
    "    data = np.genfromtxt(fname, usecols=(0,1,2)) #Magnitude, Time, Error in Mag\n",
    "    data = np.array([data[:,1], data[:,0], data[:,2]]) #Following the syntax from the FATS Documentation (http://isadoranun.github.io/tsfeat/FeaturesDocumentation.html)\n",
    "    \n",
    "    #FATS extracts features in this step\n",
    "    features = FATS.FeatureSpace(Data=['time','magnitude', 'error'])\n",
    "    result = features.calculateFeature(data)\n",
    "    tmp = result.result(method=\"dict\")\n",
    "    tmp['ID'] = fname[:-3]\n",
    "    resultlist.append(tmp)"
   ]
  },
  {
   "cell_type": "code",
   "execution_count": 4,
   "metadata": {},
   "outputs": [],
   "source": [
    "#Save resultlist in .npy format. Default name is featureresults.npy.\n",
    "np.save('featureresults.npy', resultlist)\n",
    "\n",
    "#To read .npy format files, use the following code.\n",
    "read_dictionary = np.load('featureresults.npy').item()\n",
    "print(read_dictionary)"
   ]
  },
  {
   "cell_type": "code",
   "execution_count": null,
   "metadata": {
    "collapsed": true
   },
   "outputs": [],
   "source": []
  }
 ],
 "metadata": {
  "kernelspec": {
   "display_name": "Python 2",
   "language": "python",
   "name": "python2"
  },
  "language_info": {
   "codemirror_mode": {
    "name": "ipython",
    "version": 2
   },
   "file_extension": ".py",
   "mimetype": "text/x-python",
   "name": "python",
   "nbconvert_exporter": "python",
   "pygments_lexer": "ipython2",
   "version": "2.7.13"
  }
 },
 "nbformat": 4,
 "nbformat_minor": 2
}
